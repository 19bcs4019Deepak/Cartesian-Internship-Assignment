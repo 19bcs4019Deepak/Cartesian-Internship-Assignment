{
  "nbformat": 4,
  "nbformat_minor": 0,
  "metadata": {
    "colab": {
      "name": "Cartesian Internship Assignment(Deepak.B).ipynb",
      "provenance": []
    },
    "kernelspec": {
      "name": "python3",
      "display_name": "Python 3"
    },
    "language_info": {
      "name": "python"
    }
  },
  "cells": [
    {
      "cell_type": "markdown",
      "source": [
        " **PROGRAMMING**\n",
        "\n",
        "---\n",
        "\n",
        "\n",
        "\n",
        "---\n",
        "\n",
        "\n",
        " **PROBLEM STATEMENT**\n",
        "\n",
        " The program takes input a short abstract\n",
        "and outputs the following\n",
        "\n",
        "1) Prints each word in reverse.\n",
        "\n",
        "2) Prints Top 2 occurring words in\n",
        "sorted order. The words that have occurred most of the time.\n",
        "\n",
        "\n",
        "---\n",
        "\n",
        "**SAMPLE INPUT**\n",
        "\n",
        "\"This declaration represents a\n",
        "political commitment among declaration partners to advance a positive vision\n",
        "for the Internet in this era of a united europe\"\n",
        "\n",
        "**SAMPLE OUTPUT**\n",
        "\n",
        "\"Europe united a of era this in internet the for vision positive a advance to partners declaration among commitment political a represents declaration this\"\n"
      ],
      "metadata": {
        "id": "f8O2xS6_CMVu"
      }
    },
    {
      "cell_type": "markdown",
      "source": [
        "**Question-1)\n",
        "  Print each word in reverse**"
      ],
      "metadata": {
        "id": "27qliLpSCmwm"
      }
    },
    {
      "cell_type": "code",
      "execution_count": null,
      "metadata": {
        "colab": {
          "base_uri": "https://localhost:8080/"
        },
        "id": "sisoqGNSm06k",
        "outputId": "8874c958-69d2-48d4-b472-633c0e3c18dc"
      },
      "outputs": [
        {
          "output_type": "stream",
          "name": "stdout",
          "text": [
            "this declaration represents a political commitment among declaration partners to advance a positive vision for the internet in this era of a united europe\n"
          ]
        }
      ],
      "source": [
        "sentence = \"This declaration represents a political commitment among declaration partners to advance a positive vision for the Internet in this era of a united europe\"\n",
        "a=sentence.lower()\n",
        "print(a)"
      ]
    },
    {
      "cell_type": "code",
      "source": [
        "s = a.split()[::-1]\n",
        "print(s)"
      ],
      "metadata": {
        "colab": {
          "base_uri": "https://localhost:8080/"
        },
        "id": "oO5_WIs7oMKA",
        "outputId": "f64209ea-4331-4467-a421-14718ee710fa"
      },
      "execution_count": null,
      "outputs": [
        {
          "output_type": "stream",
          "name": "stdout",
          "text": [
            "['europe', 'united', 'a', 'of', 'era', 'this', 'in', 'internet', 'the', 'for', 'vision', 'positive', 'a', 'advance', 'to', 'partners', 'declaration', 'among', 'commitment', 'political', 'a', 'represents', 'declaration', 'this']\n"
          ]
        }
      ]
    },
    {
      "cell_type": "code",
      "source": [
        "d=\"\"\n",
        "for i in s:\n",
        "  d=d+i+' '\n",
        "print('\"'+d.capitalize()+'\"')"
      ],
      "metadata": {
        "colab": {
          "base_uri": "https://localhost:8080/"
        },
        "id": "CxE2dLrC4Y1E",
        "outputId": "bf0eb35e-1c17-49a4-e1e5-7bac3d2921fb"
      },
      "execution_count": null,
      "outputs": [
        {
          "output_type": "stream",
          "name": "stdout",
          "text": [
            "\"Europe united a of era this in internet the for vision positive a advance to partners declaration among commitment political a represents declaration this \"\n"
          ]
        }
      ]
    },
    {
      "cell_type": "markdown",
      "source": [
        "**Question-2)\n",
        "Prints Top 2 occurring words in sorted order. The words that have occurred most of the\n",
        "time.**"
      ],
      "metadata": {
        "id": "mghW58fGChfi"
      }
    },
    {
      "cell_type": "code",
      "source": [
        "from collections import Counter\n",
        "occurence=sentence.split()\n",
        "word=Counter(occurence)\n",
        "print(word.most_common())"
      ],
      "metadata": {
        "colab": {
          "base_uri": "https://localhost:8080/"
        },
        "id": "Xexu9KuV4jKb",
        "outputId": "c2b2d033-3db5-43e0-e13b-bcb5859a2de3"
      },
      "execution_count": null,
      "outputs": [
        {
          "output_type": "stream",
          "name": "stdout",
          "text": [
            "[('a', 3), ('declaration', 2), ('This', 1), ('represents', 1), ('political', 1), ('commitment', 1), ('among', 1), ('partners', 1), ('to', 1), ('advance', 1), ('positive', 1), ('vision', 1), ('for', 1), ('the', 1), ('Internet', 1), ('in', 1), ('this', 1), ('era', 1), ('of', 1), ('united', 1), ('europe', 1)]\n"
          ]
        }
      ]
    },
    {
      "cell_type": "code",
      "source": [
        "print(word.most_common(2))"
      ],
      "metadata": {
        "colab": {
          "base_uri": "https://localhost:8080/"
        },
        "id": "S8H3ZPAgBPS9",
        "outputId": "f49d76d3-2bf8-4498-ba25-53b892570f3c"
      },
      "execution_count": null,
      "outputs": [
        {
          "output_type": "stream",
          "name": "stdout",
          "text": [
            "[('a', 3), ('declaration', 2)]\n"
          ]
        }
      ]
    }
  ]
}